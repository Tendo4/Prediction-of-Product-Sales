{
  "nbformat": 4,
  "nbformat_minor": 0,
  "metadata": {
    "colab": {
      "provenance": [],
      "authorship_tag": "ABX9TyPgcnniluy3vudBGsabG89V",
      "include_colab_link": true
    },
    "kernelspec": {
      "name": "python3",
      "display_name": "Python 3"
    },
    "language_info": {
      "name": "python"
    }
  },
  "cells": [
    {
      "cell_type": "markdown",
      "metadata": {
        "id": "view-in-github",
        "colab_type": "text"
      },
      "source": [
        "<a href=\"https://colab.research.google.com/github/Tendo4/Prediction-of-Product-Sales/blob/main/Prediction_of_Product_Sales.ipynb\" target=\"_parent\"><img src=\"https://colab.research.google.com/assets/colab-badge.svg\" alt=\"Open In Colab\"/></a>"
      ]
    },
    {
      "cell_type": "markdown",
      "source": [
        "#Prediction of Product Sales\n"
      ],
      "metadata": {
        "id": "KuugU9iHstN6"
      }
    },
    {
      "cell_type": "markdown",
      "source": [
        "Author:Tendo Elisha"
      ],
      "metadata": {
        "id": "byeITC2_uFC3"
      }
    },
    {
      "cell_type": "markdown",
      "source": [
        "##Project Overview"
      ],
      "metadata": {
        "id": "Zb0sd7hXtPb3"
      }
    },
    {
      "cell_type": "markdown",
      "source": [],
      "metadata": {
        "id": "NXZrhW8KujhY"
      }
    },
    {
      "cell_type": "markdown",
      "source": [
        "##Load and Inspect Data"
      ],
      "metadata": {
        "id": "cH9hr3rEtUcc"
      }
    },
    {
      "cell_type": "code",
      "source": [],
      "metadata": {
        "id": "QcPFgEMvuaeR"
      },
      "execution_count": null,
      "outputs": []
    },
    {
      "cell_type": "markdown",
      "source": [
        "##Clean Data"
      ],
      "metadata": {
        "id": "vnS7TbhttawY"
      }
    },
    {
      "cell_type": "code",
      "source": [],
      "metadata": {
        "id": "IduQsrEEuca1"
      },
      "execution_count": null,
      "outputs": []
    },
    {
      "cell_type": "markdown",
      "source": [
        "##Exploratory Data Analysis"
      ],
      "metadata": {
        "id": "2C8vbmJStd5C"
      }
    },
    {
      "cell_type": "code",
      "source": [],
      "metadata": {
        "id": "CRqKLRFquf0E"
      },
      "execution_count": null,
      "outputs": []
    },
    {
      "cell_type": "markdown",
      "source": [
        "##Feature Inspection"
      ],
      "metadata": {
        "id": "1qfT82AJti-O"
      }
    },
    {
      "cell_type": "code",
      "source": [],
      "metadata": {
        "id": "GmVLIpKwuhje"
      },
      "execution_count": null,
      "outputs": []
    }
  ]
}